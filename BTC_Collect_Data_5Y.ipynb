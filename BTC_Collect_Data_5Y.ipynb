{
 "cells": [
  {
   "cell_type": "code",
   "execution_count": 1,
   "id": "af0de8a7",
   "metadata": {},
   "outputs": [
    {
     "name": "stdout",
     "output_type": "stream",
     "text": [
      "YF.download() has changed argument auto_adjust default to True\n"
     ]
    },
    {
     "name": "stderr",
     "output_type": "stream",
     "text": [
      "[*********************100%***********************]  1 of 1 completed\n"
     ]
    },
    {
     "name": "stdout",
     "output_type": "stream",
     "text": [
      "已儲存為 BTC_Technical_Indicators_with_Label.xlsx（含 label_10d_up）\n",
      "Price             Close        High            Low           Open  \\\n",
      "Ticker          BTC-USD     BTC-USD        BTC-USD        BTC-USD   \n",
      "Date                                                                \n",
      "2025-05-18  103885.1875  104052.375  103162.859375  103162.859375   \n",
      "\n",
      "Price            Volume     RSI_14       MACD MACD_signal  MACD_diff  \\\n",
      "Ticker          BTC-USD                                                \n",
      "Date                                                                   \n",
      "2025-05-18  35485646848  68.894415  3569.8559  3724.36091 -154.50501   \n",
      "\n",
      "Price               SMA_5  ...        EMA_26         %K         %D  \\\n",
      "Ticker                     ...                                       \n",
      "Date                       ...                                       \n",
      "2025-05-18  103569.923437  ...  98652.785698  84.917988  81.975444   \n",
      "\n",
      "Price                 OBV          ATR         BB_bbm         BB_bbh  \\\n",
      "Ticker                                                                 \n",
      "Date                                                                   \n",
      "2025-05-18  1432932464209  2454.541437  100026.625781  108167.990678   \n",
      "\n",
      "Price             BB_bbl     BB_%b label_10d_up  \n",
      "Ticker                                           \n",
      "Date                                             \n",
      "2025-05-18  91885.260884  0.736973            0  \n",
      "\n",
      "[1 rows x 22 columns]\n"
     ]
    }
   ],
   "source": [
    "import yfinance as yf\n",
    "import pandas as pd\n",
    "import ta\n",
    "\n",
    "# 1. 抓取 BTC 最近 5年的資料（預留足夠天數給 shift(-10)）\n",
    "df = yf.download(\"BTC-USD\", period=\"5y\", interval=\"1d\")\n",
    "df.dropna(inplace=True)\n",
    "\n",
    "# 2. 強制轉為 Series\n",
    "close = df['Close'].squeeze()\n",
    "high = df['High'].squeeze()\n",
    "low = df['Low'].squeeze()\n",
    "volume = df['Volume'].squeeze()\n",
    "\n",
    "# 3. 技術指標\n",
    "df['RSI_14'] = ta.momentum.RSIIndicator(close=close, window=14).rsi()\n",
    "macd_calc = ta.trend.MACD(close=close)\n",
    "df['MACD'] = macd_calc.macd()\n",
    "df['MACD_signal'] = macd_calc.macd_signal()\n",
    "df['MACD_diff'] = df['MACD'] - df['MACD_signal']\n",
    "df['SMA_5'] = ta.trend.SMAIndicator(close=close, window=5).sma_indicator()\n",
    "df['SMA_20'] = ta.trend.SMAIndicator(close=close, window=20).sma_indicator()\n",
    "df['EMA_12'] = ta.trend.EMAIndicator(close=close, window=12).ema_indicator()\n",
    "df['EMA_26'] = ta.trend.EMAIndicator(close=close, window=26).ema_indicator()\n",
    "stoch = ta.momentum.StochasticOscillator(high=high, low=low, close=close)\n",
    "df['%K'] = stoch.stoch()\n",
    "df['%D'] = stoch.stoch_signal()\n",
    "df['OBV'] = ta.volume.OnBalanceVolumeIndicator(close=close, volume=volume).on_balance_volume()\n",
    "df['ATR'] = ta.volatility.AverageTrueRange(high=high, low=low, close=close).average_true_range()\n",
    "bb = ta.volatility.BollingerBands(close=close, window=20, window_dev=2)\n",
    "df['BB_bbm'] = bb.bollinger_mavg()\n",
    "df['BB_bbh'] = bb.bollinger_hband()\n",
    "df['BB_bbl'] = bb.bollinger_lband()\n",
    "df['BB_%b'] = bb.bollinger_pband()\n",
    "\n",
    "# 4. 加入 label（未來10天是否會上漲）\n",
    "df['label_10d_up'] = (df['Close'].shift(-10) > df['Close']).astype(int)\n",
    "\n",
    "# 5. 移除 NaN\n",
    "df.dropna(inplace=True)\n",
    "\n",
    "#6. 匯出\n",
    "df.to_excel(\"BTC_Technical_Indicators_with_Label1.xlsx\")\n",
    "print(\"已儲存為 BTC_Technical_Indicators_with_Label.xlsx（含 label_10d_up）\")\n",
    "print(df.tail(1))"
   ]
  },
  {
   "cell_type": "code",
   "execution_count": null,
   "id": "e185d9b7",
   "metadata": {},
   "outputs": [],
   "source": []
  }
 ],
 "metadata": {
  "kernelspec": {
   "display_name": "web_scraping",
   "language": "python",
   "name": "python3"
  },
  "language_info": {
   "codemirror_mode": {
    "name": "ipython",
    "version": 3
   },
   "file_extension": ".py",
   "mimetype": "text/x-python",
   "name": "python",
   "nbconvert_exporter": "python",
   "pygments_lexer": "ipython3",
   "version": "3.11.11"
  }
 },
 "nbformat": 4,
 "nbformat_minor": 5
}
