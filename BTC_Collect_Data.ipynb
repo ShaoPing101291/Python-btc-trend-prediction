import yfinance as yf
import pandas as pd
import ta

# 1. 抓取 BTC 最近 5年的資料（預留足夠天數給 shift(-10)）
df = yf.download("BTC-USD", period="5y", interval="1d")
df.dropna(inplace=True)

# 2. 強制轉為 Series
close = df['Close'].squeeze()
high = df['High'].squeeze()
low = df['Low'].squeeze()
volume = df['Volume'].squeeze()

# 3. 技術指標
df['RSI_14'] = ta.momentum.RSIIndicator(close=close, window=14).rsi()
macd_calc = ta.trend.MACD(close=close)
df['MACD'] = macd_calc.macd()
df['MACD_signal'] = macd_calc.macd_signal()
df['MACD_diff'] = df['MACD'] - df['MACD_signal']
df['SMA_5'] = ta.trend.SMAIndicator(close=close, window=5).sma_indicator()
df['SMA_20'] = ta.trend.SMAIndicator(close=close, window=20).sma_indicator()
df['EMA_12'] = ta.trend.EMAIndicator(close=close, window=12).ema_indicator()
df['EMA_26'] = ta.trend.EMAIndicator(close=close, window=26).ema_indicator()
stoch = ta.momentum.StochasticOscillator(high=high, low=low, close=close)
df['%K'] = stoch.stoch()
df['%D'] = stoch.stoch_signal()
df['OBV'] = ta.volume.OnBalanceVolumeIndicator(close=close, volume=volume).on_balance_volume()
df['ATR'] = ta.volatility.AverageTrueRange(high=high, low=low, close=close).average_true_range()
bb = ta.volatility.BollingerBands(close=close, window=20, window_dev=2)
df['BB_bbm'] = bb.bollinger_mavg()
df['BB_bbh'] = bb.bollinger_hband()
df['BB_bbl'] = bb.bollinger_lband()
df['BB_%b'] = bb.bollinger_pband()

# 4. 加入 label（未來10天是否會上漲）
df['label_10d_up'] = (df['Close'].shift(-10) > df['Close']).astype(int)

# 5. 移除 NaN
df.dropna(inplace=True)

#6. 匯出
df.to_excel("BTC_Technical_Indicators_with_Label.xlsx")
print("已儲存為 BTC_Technical_Indicators_with_Label.xlsx（含 label_10d_up）")
print(df.tail(1))
